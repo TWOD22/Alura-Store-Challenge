{
  "nbformat": 4,
  "nbformat_minor": 0,
  "metadata": {
    "colab": {
      "provenance": [],
      "include_colab_link": true
    },
    "kernelspec": {
      "name": "python3",
      "display_name": "Python 3"
    },
    "language_info": {
      "name": "python"
    }
  },
  "cells": [
    {
      "cell_type": "markdown",
      "metadata": {
        "id": "view-in-github",
        "colab_type": "text"
      },
      "source": [
        "<a href=\"https://colab.research.google.com/github/TWOD22/Alura-Store-Challenge/blob/main/AluraStoreLatam.ipynb\" target=\"_parent\"><img src=\"https://colab.research.google.com/assets/colab-badge.svg\" alt=\"Open In Colab\"/></a>"
      ]
    },
    {
      "cell_type": "markdown",
      "source": [
        "### Importación de datos\n",
        "\n"
      ],
      "metadata": {
        "id": "RhEdWd9YUR6H"
      }
    },
    {
      "cell_type": "code",
      "execution_count": 54,
      "metadata": {
        "colab": {
          "base_uri": "https://localhost:8080/",
          "height": 771
        },
        "id": "T3EvaeQ_INIL",
        "outputId": "74e3fd19-921e-4fb4-8967-d0361726ac1f"
      },
      "outputs": [
        {
          "output_type": "execute_result",
          "data": {
            "text/plain": [
              "                 Producto   Categoría del Producto     Precio  Costo de envío  \\\n",
              "0            Lavavajillas        Electrodomésticos  1084800.0         56000.0   \n",
              "1                Cama box                  Muebles   473800.0         25400.0   \n",
              "2     Balón de baloncesto     Deportes y diversión    23700.0             0.0   \n",
              "3     Modelado predictivo                   Libros    57700.0          1300.0   \n",
              "4             Auriculares             Electrónicos   138900.0          5600.0   \n",
              "...                   ...                      ...        ...             ...   \n",
              "2353      Mesa de comedor                  Muebles   227700.0         12600.0   \n",
              "2354     Silla de oficina                  Muebles   342000.0         18600.0   \n",
              "2355         Vaso térmico     Deportes y diversión    36700.0          2400.0   \n",
              "2356         Set de ollas  Artículos para el hogar   151800.0          8300.0   \n",
              "2357   Cuerda para saltar     Deportes y diversión    11200.0          1300.0   \n",
              "\n",
              "     Fecha de Compra         Vendedor Lugar de Compra  Calificación  \\\n",
              "0         11/11/2022    Rafael Acosta          Bogotá             4   \n",
              "1         03/01/2020  Izabela de León          Cúcuta             5   \n",
              "2         25/12/2022    Maria Alfonso        Medellín             5   \n",
              "3         23/11/2021    Lucas Olivera        Medellín             3   \n",
              "4         25/04/2022   Blanca Ramirez          Bogotá             4   \n",
              "...              ...              ...             ...           ...   \n",
              "2353      12/02/2020    Camila Rivera        Medellín             5   \n",
              "2354      17/05/2022    Felipe Santos     Bucaramanga             5   \n",
              "2355      03/05/2022    Camila Rivera          Bogotá             5   \n",
              "2356      15/06/2020   Blanca Ramirez            Cali             5   \n",
              "2357      17/11/2021    Felipe Santos          Bogotá             5   \n",
              "\n",
              "          Método de pago  Cantidad de cuotas      lat       lon  \n",
              "0     Tarjeta de crédito                   3  4.60971 -74.08175  \n",
              "1     Tarjeta de crédito                   2  7.89391 -72.50782  \n",
              "2                  Nequi                   1  6.25184 -75.56359  \n",
              "3                  Nequi                   1  6.25184 -75.56359  \n",
              "4     Tarjeta de crédito                   7  4.60971 -74.08175  \n",
              "...                  ...                 ...      ...       ...  \n",
              "2353  Tarjeta de crédito                   1  6.25184 -75.56359  \n",
              "2354  Tarjeta de crédito                   3  7.12539 -73.11980  \n",
              "2355  Tarjeta de crédito                   1  4.60971 -74.08175  \n",
              "2356  Tarjeta de crédito                   1  3.43722 -76.52250  \n",
              "2357  Tarjeta de crédito                   1  4.60971 -74.08175  \n",
              "\n",
              "[2358 rows x 12 columns]"
            ],
            "text/html": [
              "\n",
              "  <div id=\"df-595a70dc-468e-4b3f-acaa-dadbbba33e06\" class=\"colab-df-container\">\n",
              "    <div>\n",
              "<style scoped>\n",
              "    .dataframe tbody tr th:only-of-type {\n",
              "        vertical-align: middle;\n",
              "    }\n",
              "\n",
              "    .dataframe tbody tr th {\n",
              "        vertical-align: top;\n",
              "    }\n",
              "\n",
              "    .dataframe thead th {\n",
              "        text-align: right;\n",
              "    }\n",
              "</style>\n",
              "<table border=\"1\" class=\"dataframe\">\n",
              "  <thead>\n",
              "    <tr style=\"text-align: right;\">\n",
              "      <th></th>\n",
              "      <th>Producto</th>\n",
              "      <th>Categoría del Producto</th>\n",
              "      <th>Precio</th>\n",
              "      <th>Costo de envío</th>\n",
              "      <th>Fecha de Compra</th>\n",
              "      <th>Vendedor</th>\n",
              "      <th>Lugar de Compra</th>\n",
              "      <th>Calificación</th>\n",
              "      <th>Método de pago</th>\n",
              "      <th>Cantidad de cuotas</th>\n",
              "      <th>lat</th>\n",
              "      <th>lon</th>\n",
              "    </tr>\n",
              "  </thead>\n",
              "  <tbody>\n",
              "    <tr>\n",
              "      <th>0</th>\n",
              "      <td>Lavavajillas</td>\n",
              "      <td>Electrodomésticos</td>\n",
              "      <td>1084800.0</td>\n",
              "      <td>56000.0</td>\n",
              "      <td>11/11/2022</td>\n",
              "      <td>Rafael Acosta</td>\n",
              "      <td>Bogotá</td>\n",
              "      <td>4</td>\n",
              "      <td>Tarjeta de crédito</td>\n",
              "      <td>3</td>\n",
              "      <td>4.60971</td>\n",
              "      <td>-74.08175</td>\n",
              "    </tr>\n",
              "    <tr>\n",
              "      <th>1</th>\n",
              "      <td>Cama box</td>\n",
              "      <td>Muebles</td>\n",
              "      <td>473800.0</td>\n",
              "      <td>25400.0</td>\n",
              "      <td>03/01/2020</td>\n",
              "      <td>Izabela de León</td>\n",
              "      <td>Cúcuta</td>\n",
              "      <td>5</td>\n",
              "      <td>Tarjeta de crédito</td>\n",
              "      <td>2</td>\n",
              "      <td>7.89391</td>\n",
              "      <td>-72.50782</td>\n",
              "    </tr>\n",
              "    <tr>\n",
              "      <th>2</th>\n",
              "      <td>Balón de baloncesto</td>\n",
              "      <td>Deportes y diversión</td>\n",
              "      <td>23700.0</td>\n",
              "      <td>0.0</td>\n",
              "      <td>25/12/2022</td>\n",
              "      <td>Maria Alfonso</td>\n",
              "      <td>Medellín</td>\n",
              "      <td>5</td>\n",
              "      <td>Nequi</td>\n",
              "      <td>1</td>\n",
              "      <td>6.25184</td>\n",
              "      <td>-75.56359</td>\n",
              "    </tr>\n",
              "    <tr>\n",
              "      <th>3</th>\n",
              "      <td>Modelado predictivo</td>\n",
              "      <td>Libros</td>\n",
              "      <td>57700.0</td>\n",
              "      <td>1300.0</td>\n",
              "      <td>23/11/2021</td>\n",
              "      <td>Lucas Olivera</td>\n",
              "      <td>Medellín</td>\n",
              "      <td>3</td>\n",
              "      <td>Nequi</td>\n",
              "      <td>1</td>\n",
              "      <td>6.25184</td>\n",
              "      <td>-75.56359</td>\n",
              "    </tr>\n",
              "    <tr>\n",
              "      <th>4</th>\n",
              "      <td>Auriculares</td>\n",
              "      <td>Electrónicos</td>\n",
              "      <td>138900.0</td>\n",
              "      <td>5600.0</td>\n",
              "      <td>25/04/2022</td>\n",
              "      <td>Blanca Ramirez</td>\n",
              "      <td>Bogotá</td>\n",
              "      <td>4</td>\n",
              "      <td>Tarjeta de crédito</td>\n",
              "      <td>7</td>\n",
              "      <td>4.60971</td>\n",
              "      <td>-74.08175</td>\n",
              "    </tr>\n",
              "    <tr>\n",
              "      <th>...</th>\n",
              "      <td>...</td>\n",
              "      <td>...</td>\n",
              "      <td>...</td>\n",
              "      <td>...</td>\n",
              "      <td>...</td>\n",
              "      <td>...</td>\n",
              "      <td>...</td>\n",
              "      <td>...</td>\n",
              "      <td>...</td>\n",
              "      <td>...</td>\n",
              "      <td>...</td>\n",
              "      <td>...</td>\n",
              "    </tr>\n",
              "    <tr>\n",
              "      <th>2353</th>\n",
              "      <td>Mesa de comedor</td>\n",
              "      <td>Muebles</td>\n",
              "      <td>227700.0</td>\n",
              "      <td>12600.0</td>\n",
              "      <td>12/02/2020</td>\n",
              "      <td>Camila Rivera</td>\n",
              "      <td>Medellín</td>\n",
              "      <td>5</td>\n",
              "      <td>Tarjeta de crédito</td>\n",
              "      <td>1</td>\n",
              "      <td>6.25184</td>\n",
              "      <td>-75.56359</td>\n",
              "    </tr>\n",
              "    <tr>\n",
              "      <th>2354</th>\n",
              "      <td>Silla de oficina</td>\n",
              "      <td>Muebles</td>\n",
              "      <td>342000.0</td>\n",
              "      <td>18600.0</td>\n",
              "      <td>17/05/2022</td>\n",
              "      <td>Felipe Santos</td>\n",
              "      <td>Bucaramanga</td>\n",
              "      <td>5</td>\n",
              "      <td>Tarjeta de crédito</td>\n",
              "      <td>3</td>\n",
              "      <td>7.12539</td>\n",
              "      <td>-73.11980</td>\n",
              "    </tr>\n",
              "    <tr>\n",
              "      <th>2355</th>\n",
              "      <td>Vaso térmico</td>\n",
              "      <td>Deportes y diversión</td>\n",
              "      <td>36700.0</td>\n",
              "      <td>2400.0</td>\n",
              "      <td>03/05/2022</td>\n",
              "      <td>Camila Rivera</td>\n",
              "      <td>Bogotá</td>\n",
              "      <td>5</td>\n",
              "      <td>Tarjeta de crédito</td>\n",
              "      <td>1</td>\n",
              "      <td>4.60971</td>\n",
              "      <td>-74.08175</td>\n",
              "    </tr>\n",
              "    <tr>\n",
              "      <th>2356</th>\n",
              "      <td>Set de ollas</td>\n",
              "      <td>Artículos para el hogar</td>\n",
              "      <td>151800.0</td>\n",
              "      <td>8300.0</td>\n",
              "      <td>15/06/2020</td>\n",
              "      <td>Blanca Ramirez</td>\n",
              "      <td>Cali</td>\n",
              "      <td>5</td>\n",
              "      <td>Tarjeta de crédito</td>\n",
              "      <td>1</td>\n",
              "      <td>3.43722</td>\n",
              "      <td>-76.52250</td>\n",
              "    </tr>\n",
              "    <tr>\n",
              "      <th>2357</th>\n",
              "      <td>Cuerda para saltar</td>\n",
              "      <td>Deportes y diversión</td>\n",
              "      <td>11200.0</td>\n",
              "      <td>1300.0</td>\n",
              "      <td>17/11/2021</td>\n",
              "      <td>Felipe Santos</td>\n",
              "      <td>Bogotá</td>\n",
              "      <td>5</td>\n",
              "      <td>Tarjeta de crédito</td>\n",
              "      <td>1</td>\n",
              "      <td>4.60971</td>\n",
              "      <td>-74.08175</td>\n",
              "    </tr>\n",
              "  </tbody>\n",
              "</table>\n",
              "<p>2358 rows × 12 columns</p>\n",
              "</div>\n",
              "    <div class=\"colab-df-buttons\">\n",
              "\n",
              "  <div class=\"colab-df-container\">\n",
              "    <button class=\"colab-df-convert\" onclick=\"convertToInteractive('df-595a70dc-468e-4b3f-acaa-dadbbba33e06')\"\n",
              "            title=\"Convert this dataframe to an interactive table.\"\n",
              "            style=\"display:none;\">\n",
              "\n",
              "  <svg xmlns=\"http://www.w3.org/2000/svg\" height=\"24px\" viewBox=\"0 -960 960 960\">\n",
              "    <path d=\"M120-120v-720h720v720H120Zm60-500h600v-160H180v160Zm220 220h160v-160H400v160Zm0 220h160v-160H400v160ZM180-400h160v-160H180v160Zm440 0h160v-160H620v160ZM180-180h160v-160H180v160Zm440 0h160v-160H620v160Z\"/>\n",
              "  </svg>\n",
              "    </button>\n",
              "\n",
              "  <style>\n",
              "    .colab-df-container {\n",
              "      display:flex;\n",
              "      gap: 12px;\n",
              "    }\n",
              "\n",
              "    .colab-df-convert {\n",
              "      background-color: #E8F0FE;\n",
              "      border: none;\n",
              "      border-radius: 50%;\n",
              "      cursor: pointer;\n",
              "      display: none;\n",
              "      fill: #1967D2;\n",
              "      height: 32px;\n",
              "      padding: 0 0 0 0;\n",
              "      width: 32px;\n",
              "    }\n",
              "\n",
              "    .colab-df-convert:hover {\n",
              "      background-color: #E2EBFA;\n",
              "      box-shadow: 0px 1px 2px rgba(60, 64, 67, 0.3), 0px 1px 3px 1px rgba(60, 64, 67, 0.15);\n",
              "      fill: #174EA6;\n",
              "    }\n",
              "\n",
              "    .colab-df-buttons div {\n",
              "      margin-bottom: 4px;\n",
              "    }\n",
              "\n",
              "    [theme=dark] .colab-df-convert {\n",
              "      background-color: #3B4455;\n",
              "      fill: #D2E3FC;\n",
              "    }\n",
              "\n",
              "    [theme=dark] .colab-df-convert:hover {\n",
              "      background-color: #434B5C;\n",
              "      box-shadow: 0px 1px 3px 1px rgba(0, 0, 0, 0.15);\n",
              "      filter: drop-shadow(0px 1px 2px rgba(0, 0, 0, 0.3));\n",
              "      fill: #FFFFFF;\n",
              "    }\n",
              "  </style>\n",
              "\n",
              "    <script>\n",
              "      const buttonEl =\n",
              "        document.querySelector('#df-595a70dc-468e-4b3f-acaa-dadbbba33e06 button.colab-df-convert');\n",
              "      buttonEl.style.display =\n",
              "        google.colab.kernel.accessAllowed ? 'block' : 'none';\n",
              "\n",
              "      async function convertToInteractive(key) {\n",
              "        const element = document.querySelector('#df-595a70dc-468e-4b3f-acaa-dadbbba33e06');\n",
              "        const dataTable =\n",
              "          await google.colab.kernel.invokeFunction('convertToInteractive',\n",
              "                                                    [key], {});\n",
              "        if (!dataTable) return;\n",
              "\n",
              "        const docLinkHtml = 'Like what you see? Visit the ' +\n",
              "          '<a target=\"_blank\" href=https://colab.research.google.com/notebooks/data_table.ipynb>data table notebook</a>'\n",
              "          + ' to learn more about interactive tables.';\n",
              "        element.innerHTML = '';\n",
              "        dataTable['output_type'] = 'display_data';\n",
              "        await google.colab.output.renderOutput(dataTable, element);\n",
              "        const docLink = document.createElement('div');\n",
              "        docLink.innerHTML = docLinkHtml;\n",
              "        element.appendChild(docLink);\n",
              "      }\n",
              "    </script>\n",
              "  </div>\n",
              "\n",
              "\n",
              "    <div id=\"df-ece6a452-6a97-47b5-91eb-a62664ebc9bc\">\n",
              "      <button class=\"colab-df-quickchart\" onclick=\"quickchart('df-ece6a452-6a97-47b5-91eb-a62664ebc9bc')\"\n",
              "                title=\"Suggest charts\"\n",
              "                style=\"display:none;\">\n",
              "\n",
              "<svg xmlns=\"http://www.w3.org/2000/svg\" height=\"24px\"viewBox=\"0 0 24 24\"\n",
              "     width=\"24px\">\n",
              "    <g>\n",
              "        <path d=\"M19 3H5c-1.1 0-2 .9-2 2v14c0 1.1.9 2 2 2h14c1.1 0 2-.9 2-2V5c0-1.1-.9-2-2-2zM9 17H7v-7h2v7zm4 0h-2V7h2v10zm4 0h-2v-4h2v4z\"/>\n",
              "    </g>\n",
              "</svg>\n",
              "      </button>\n",
              "\n",
              "<style>\n",
              "  .colab-df-quickchart {\n",
              "      --bg-color: #E8F0FE;\n",
              "      --fill-color: #1967D2;\n",
              "      --hover-bg-color: #E2EBFA;\n",
              "      --hover-fill-color: #174EA6;\n",
              "      --disabled-fill-color: #AAA;\n",
              "      --disabled-bg-color: #DDD;\n",
              "  }\n",
              "\n",
              "  [theme=dark] .colab-df-quickchart {\n",
              "      --bg-color: #3B4455;\n",
              "      --fill-color: #D2E3FC;\n",
              "      --hover-bg-color: #434B5C;\n",
              "      --hover-fill-color: #FFFFFF;\n",
              "      --disabled-bg-color: #3B4455;\n",
              "      --disabled-fill-color: #666;\n",
              "  }\n",
              "\n",
              "  .colab-df-quickchart {\n",
              "    background-color: var(--bg-color);\n",
              "    border: none;\n",
              "    border-radius: 50%;\n",
              "    cursor: pointer;\n",
              "    display: none;\n",
              "    fill: var(--fill-color);\n",
              "    height: 32px;\n",
              "    padding: 0;\n",
              "    width: 32px;\n",
              "  }\n",
              "\n",
              "  .colab-df-quickchart:hover {\n",
              "    background-color: var(--hover-bg-color);\n",
              "    box-shadow: 0 1px 2px rgba(60, 64, 67, 0.3), 0 1px 3px 1px rgba(60, 64, 67, 0.15);\n",
              "    fill: var(--button-hover-fill-color);\n",
              "  }\n",
              "\n",
              "  .colab-df-quickchart-complete:disabled,\n",
              "  .colab-df-quickchart-complete:disabled:hover {\n",
              "    background-color: var(--disabled-bg-color);\n",
              "    fill: var(--disabled-fill-color);\n",
              "    box-shadow: none;\n",
              "  }\n",
              "\n",
              "  .colab-df-spinner {\n",
              "    border: 2px solid var(--fill-color);\n",
              "    border-color: transparent;\n",
              "    border-bottom-color: var(--fill-color);\n",
              "    animation:\n",
              "      spin 1s steps(1) infinite;\n",
              "  }\n",
              "\n",
              "  @keyframes spin {\n",
              "    0% {\n",
              "      border-color: transparent;\n",
              "      border-bottom-color: var(--fill-color);\n",
              "      border-left-color: var(--fill-color);\n",
              "    }\n",
              "    20% {\n",
              "      border-color: transparent;\n",
              "      border-left-color: var(--fill-color);\n",
              "      border-top-color: var(--fill-color);\n",
              "    }\n",
              "    30% {\n",
              "      border-color: transparent;\n",
              "      border-left-color: var(--fill-color);\n",
              "      border-top-color: var(--fill-color);\n",
              "      border-right-color: var(--fill-color);\n",
              "    }\n",
              "    40% {\n",
              "      border-color: transparent;\n",
              "      border-right-color: var(--fill-color);\n",
              "      border-top-color: var(--fill-color);\n",
              "    }\n",
              "    60% {\n",
              "      border-color: transparent;\n",
              "      border-right-color: var(--fill-color);\n",
              "    }\n",
              "    80% {\n",
              "      border-color: transparent;\n",
              "      border-right-color: var(--fill-color);\n",
              "      border-bottom-color: var(--fill-color);\n",
              "    }\n",
              "    90% {\n",
              "      border-color: transparent;\n",
              "      border-bottom-color: var(--fill-color);\n",
              "    }\n",
              "  }\n",
              "</style>\n",
              "\n",
              "      <script>\n",
              "        async function quickchart(key) {\n",
              "          const quickchartButtonEl =\n",
              "            document.querySelector('#' + key + ' button');\n",
              "          quickchartButtonEl.disabled = true;  // To prevent multiple clicks.\n",
              "          quickchartButtonEl.classList.add('colab-df-spinner');\n",
              "          try {\n",
              "            const charts = await google.colab.kernel.invokeFunction(\n",
              "                'suggestCharts', [key], {});\n",
              "          } catch (error) {\n",
              "            console.error('Error during call to suggestCharts:', error);\n",
              "          }\n",
              "          quickchartButtonEl.classList.remove('colab-df-spinner');\n",
              "          quickchartButtonEl.classList.add('colab-df-quickchart-complete');\n",
              "        }\n",
              "        (() => {\n",
              "          let quickchartButtonEl =\n",
              "            document.querySelector('#df-ece6a452-6a97-47b5-91eb-a62664ebc9bc button');\n",
              "          quickchartButtonEl.style.display =\n",
              "            google.colab.kernel.accessAllowed ? 'block' : 'none';\n",
              "        })();\n",
              "      </script>\n",
              "    </div>\n",
              "\n",
              "  <div id=\"id_6286d0ea-cdbc-43f3-8a4a-27196a2335af\">\n",
              "    <style>\n",
              "      .colab-df-generate {\n",
              "        background-color: #E8F0FE;\n",
              "        border: none;\n",
              "        border-radius: 50%;\n",
              "        cursor: pointer;\n",
              "        display: none;\n",
              "        fill: #1967D2;\n",
              "        height: 32px;\n",
              "        padding: 0 0 0 0;\n",
              "        width: 32px;\n",
              "      }\n",
              "\n",
              "      .colab-df-generate:hover {\n",
              "        background-color: #E2EBFA;\n",
              "        box-shadow: 0px 1px 2px rgba(60, 64, 67, 0.3), 0px 1px 3px 1px rgba(60, 64, 67, 0.15);\n",
              "        fill: #174EA6;\n",
              "      }\n",
              "\n",
              "      [theme=dark] .colab-df-generate {\n",
              "        background-color: #3B4455;\n",
              "        fill: #D2E3FC;\n",
              "      }\n",
              "\n",
              "      [theme=dark] .colab-df-generate:hover {\n",
              "        background-color: #434B5C;\n",
              "        box-shadow: 0px 1px 3px 1px rgba(0, 0, 0, 0.15);\n",
              "        filter: drop-shadow(0px 1px 2px rgba(0, 0, 0, 0.3));\n",
              "        fill: #FFFFFF;\n",
              "      }\n",
              "    </style>\n",
              "    <button class=\"colab-df-generate\" onclick=\"generateWithVariable('tienda4')\"\n",
              "            title=\"Generate code using this dataframe.\"\n",
              "            style=\"display:none;\">\n",
              "\n",
              "  <svg xmlns=\"http://www.w3.org/2000/svg\" height=\"24px\"viewBox=\"0 0 24 24\"\n",
              "       width=\"24px\">\n",
              "    <path d=\"M7,19H8.4L18.45,9,17,7.55,7,17.6ZM5,21V16.75L18.45,3.32a2,2,0,0,1,2.83,0l1.4,1.43a1.91,1.91,0,0,1,.58,1.4,1.91,1.91,0,0,1-.58,1.4L9.25,21ZM18.45,9,17,7.55Zm-12,3A5.31,5.31,0,0,0,4.9,8.1,5.31,5.31,0,0,0,1,6.5,5.31,5.31,0,0,0,4.9,4.9,5.31,5.31,0,0,0,6.5,1,5.31,5.31,0,0,0,8.1,4.9,5.31,5.31,0,0,0,12,6.5,5.46,5.46,0,0,0,6.5,12Z\"/>\n",
              "  </svg>\n",
              "    </button>\n",
              "    <script>\n",
              "      (() => {\n",
              "      const buttonEl =\n",
              "        document.querySelector('#id_6286d0ea-cdbc-43f3-8a4a-27196a2335af button.colab-df-generate');\n",
              "      buttonEl.style.display =\n",
              "        google.colab.kernel.accessAllowed ? 'block' : 'none';\n",
              "\n",
              "      buttonEl.onclick = () => {\n",
              "        google.colab.notebook.generateWithVariable('tienda4');\n",
              "      }\n",
              "      })();\n",
              "    </script>\n",
              "  </div>\n",
              "\n",
              "    </div>\n",
              "  </div>\n"
            ],
            "application/vnd.google.colaboratory.intrinsic+json": {
              "type": "dataframe",
              "variable_name": "tienda4",
              "summary": "{\n  \"name\": \"tienda4\",\n  \"rows\": 2358,\n  \"fields\": [\n    {\n      \"column\": \"Producto\",\n      \"properties\": {\n        \"dtype\": \"category\",\n        \"num_unique_values\": 51,\n        \"samples\": [\n          \"Microondas\",\n          \"Set de ollas\",\n          \"Lavadora de ropa\"\n        ],\n        \"semantic_type\": \"\",\n        \"description\": \"\"\n      }\n    },\n    {\n      \"column\": \"Categor\\u00eda del Producto\",\n      \"properties\": {\n        \"dtype\": \"category\",\n        \"num_unique_values\": 8,\n        \"samples\": [\n          \"Muebles\",\n          \"Instrumentos musicales\",\n          \"Electrodom\\u00e9sticos\"\n        ],\n        \"semantic_type\": \"\",\n        \"description\": \"\"\n      }\n    },\n    {\n      \"column\": \"Precio\",\n      \"properties\": {\n        \"dtype\": \"number\",\n        \"std\": 568755.6039486045,\n        \"min\": 7600.0,\n        \"max\": 2902200.0,\n        \"num_unique_values\": 1867,\n        \"samples\": [\n          2151200.0,\n          738300.0,\n          35700.0\n        ],\n        \"semantic_type\": \"\",\n        \"description\": \"\"\n      }\n    },\n    {\n      \"column\": \"Costo de env\\u00edo\",\n      \"properties\": {\n        \"dtype\": \"number\",\n        \"std\": 30279.100835978752,\n        \"min\": 0.0,\n        \"max\": 154700.0,\n        \"num_unique_values\": 692,\n        \"samples\": [\n          73000.0,\n          21300.0,\n          48400.0\n        ],\n        \"semantic_type\": \"\",\n        \"description\": \"\"\n      }\n    },\n    {\n      \"column\": \"Fecha de Compra\",\n      \"properties\": {\n        \"dtype\": \"category\",\n        \"num_unique_values\": 1030,\n        \"samples\": [\n          \"12/06/2022\",\n          \"18/04/2021\",\n          \"24/12/2020\"\n        ],\n        \"semantic_type\": \"\",\n        \"description\": \"\"\n      }\n    },\n    {\n      \"column\": \"Vendedor\",\n      \"properties\": {\n        \"dtype\": \"category\",\n        \"num_unique_values\": 14,\n        \"samples\": [\n          \"Pedro Gomez\",\n          \"Mariana Herrera\",\n          \"Rafael Acosta\"\n        ],\n        \"semantic_type\": \"\",\n        \"description\": \"\"\n      }\n    },\n    {\n      \"column\": \"Lugar de Compra\",\n      \"properties\": {\n        \"dtype\": \"category\",\n        \"num_unique_values\": 19,\n        \"samples\": [\n          \"Bogot\\u00e1\",\n          \"Leticia\",\n          \"Barranquilla\"\n        ],\n        \"semantic_type\": \"\",\n        \"description\": \"\"\n      }\n    },\n    {\n      \"column\": \"Calificaci\\u00f3n\",\n      \"properties\": {\n        \"dtype\": \"number\",\n        \"std\": 1,\n        \"min\": 1,\n        \"max\": 5,\n        \"num_unique_values\": 5,\n        \"samples\": [\n          5,\n          2,\n          3\n        ],\n        \"semantic_type\": \"\",\n        \"description\": \"\"\n      }\n    },\n    {\n      \"column\": \"M\\u00e9todo de pago\",\n      \"properties\": {\n        \"dtype\": \"category\",\n        \"num_unique_values\": 4,\n        \"samples\": [\n          \"Nequi\",\n          \"Tarjeta de d\\u00e9bito\",\n          \"Tarjeta de cr\\u00e9dito\"\n        ],\n        \"semantic_type\": \"\",\n        \"description\": \"\"\n      }\n    },\n    {\n      \"column\": \"Cantidad de cuotas\",\n      \"properties\": {\n        \"dtype\": \"number\",\n        \"std\": 2,\n        \"min\": 1,\n        \"max\": 18,\n        \"num_unique_values\": 13,\n        \"samples\": [\n          18,\n          9,\n          3\n        ],\n        \"semantic_type\": \"\",\n        \"description\": \"\"\n      }\n    },\n    {\n      \"column\": \"lat\",\n      \"properties\": {\n        \"dtype\": \"number\",\n        \"std\": 2.37672825841418,\n        \"min\": -4.21528,\n        \"max\": 11.54444,\n        \"num_unique_values\": 19,\n        \"samples\": [\n          4.60971,\n          -4.21528,\n          10.96854\n        ],\n        \"semantic_type\": \"\",\n        \"description\": \"\"\n      }\n    },\n    {\n      \"column\": \"lon\",\n      \"properties\": {\n        \"dtype\": \"number\",\n        \"std\": 1.1997491363183892,\n        \"min\": -77.28111,\n        \"max\": -67.9239,\n        \"num_unique_values\": 19,\n        \"samples\": [\n          -74.08175,\n          -69.94056,\n          -74.78132\n        ],\n        \"semantic_type\": \"\",\n        \"description\": \"\"\n      }\n    }\n  ]\n}"
            }
          },
          "metadata": {},
          "execution_count": 54
        }
      ],
      "source": [
        "import pandas as pd\n",
        "import matplotlib.pyplot as plt\n",
        "url = \"https://raw.githubusercontent.com/alura-es-cursos/challenge1-data-science-latam/refs/heads/main/base-de-datos-challenge1-latam/tienda_1%20.csv\"\n",
        "url2 = \"https://raw.githubusercontent.com/alura-es-cursos/challenge1-data-science-latam/refs/heads/main/base-de-datos-challenge1-latam/tienda_2.csv\"\n",
        "url3 = \"https://raw.githubusercontent.com/alura-es-cursos/challenge1-data-science-latam/refs/heads/main/base-de-datos-challenge1-latam/tienda_3.csv\"\n",
        "url4 = \"https://raw.githubusercontent.com/alura-es-cursos/challenge1-data-science-latam/refs/heads/main/base-de-datos-challenge1-latam/tienda_4.csv\"\n",
        "\n",
        "tienda1 = pd.read_csv(url)\n",
        "tienda2 = pd.read_csv(url2)\n",
        "tienda3 = pd.read_csv(url3)\n",
        "tienda4 = pd.read_csv(url4)\n",
        "\n",
        "tienda4"
      ]
    },
    {
      "cell_type": "code",
      "source": [
        "tienda1.dtypes"
      ],
      "metadata": {
        "id": "xykobSftV64I",
        "colab": {
          "base_uri": "https://localhost:8080/",
          "height": 460
        },
        "outputId": "5536a423-95a5-43b9-92e7-d44b667a8430"
      },
      "execution_count": 3,
      "outputs": [
        {
          "output_type": "execute_result",
          "data": {
            "text/plain": [
              "Producto                   object\n",
              "Categoría del Producto     object\n",
              "Precio                    float64\n",
              "Costo de envío            float64\n",
              "Fecha de Compra            object\n",
              "Vendedor                   object\n",
              "Lugar de Compra            object\n",
              "Calificación                int64\n",
              "Método de pago             object\n",
              "Cantidad de cuotas          int64\n",
              "lat                       float64\n",
              "lon                       float64\n",
              "dtype: object"
            ],
            "text/html": [
              "<div>\n",
              "<style scoped>\n",
              "    .dataframe tbody tr th:only-of-type {\n",
              "        vertical-align: middle;\n",
              "    }\n",
              "\n",
              "    .dataframe tbody tr th {\n",
              "        vertical-align: top;\n",
              "    }\n",
              "\n",
              "    .dataframe thead th {\n",
              "        text-align: right;\n",
              "    }\n",
              "</style>\n",
              "<table border=\"1\" class=\"dataframe\">\n",
              "  <thead>\n",
              "    <tr style=\"text-align: right;\">\n",
              "      <th></th>\n",
              "      <th>0</th>\n",
              "    </tr>\n",
              "  </thead>\n",
              "  <tbody>\n",
              "    <tr>\n",
              "      <th>Producto</th>\n",
              "      <td>object</td>\n",
              "    </tr>\n",
              "    <tr>\n",
              "      <th>Categoría del Producto</th>\n",
              "      <td>object</td>\n",
              "    </tr>\n",
              "    <tr>\n",
              "      <th>Precio</th>\n",
              "      <td>float64</td>\n",
              "    </tr>\n",
              "    <tr>\n",
              "      <th>Costo de envío</th>\n",
              "      <td>float64</td>\n",
              "    </tr>\n",
              "    <tr>\n",
              "      <th>Fecha de Compra</th>\n",
              "      <td>object</td>\n",
              "    </tr>\n",
              "    <tr>\n",
              "      <th>Vendedor</th>\n",
              "      <td>object</td>\n",
              "    </tr>\n",
              "    <tr>\n",
              "      <th>Lugar de Compra</th>\n",
              "      <td>object</td>\n",
              "    </tr>\n",
              "    <tr>\n",
              "      <th>Calificación</th>\n",
              "      <td>int64</td>\n",
              "    </tr>\n",
              "    <tr>\n",
              "      <th>Método de pago</th>\n",
              "      <td>object</td>\n",
              "    </tr>\n",
              "    <tr>\n",
              "      <th>Cantidad de cuotas</th>\n",
              "      <td>int64</td>\n",
              "    </tr>\n",
              "    <tr>\n",
              "      <th>lat</th>\n",
              "      <td>float64</td>\n",
              "    </tr>\n",
              "    <tr>\n",
              "      <th>lon</th>\n",
              "      <td>float64</td>\n",
              "    </tr>\n",
              "  </tbody>\n",
              "</table>\n",
              "</div><br><label><b>dtype:</b> object</label>"
            ]
          },
          "metadata": {},
          "execution_count": 3
        }
      ]
    },
    {
      "cell_type": "markdown",
      "source": [
        "#1. Análisis de facturación\n",
        "\n"
      ],
      "metadata": {
        "id": "X62IW3KFUIYm"
      }
    },
    {
      "cell_type": "markdown",
      "source": [
        "# **SUMA DE PRECIOS DE CADA TIENDA**"
      ],
      "metadata": {
        "id": "E4Y6J0qRlMkt"
      }
    },
    {
      "cell_type": "code",
      "source": [
        "suma_precios_tienda_1 = tienda1['Precio'].sum()\n",
        "print(f\"El ingreso total de precios de la tienda 1 es de {suma_precios_tienda_1}.\")\n",
        "suma_precios_tienda_2 = tienda2['Precio'].sum()\n",
        "print(f\"El ingreso total de precios de la tienda 2 es de {suma_precios_tienda_2}.\")\n",
        "suma_precios_tienda_3 = tienda3['Precio'].sum()\n",
        "print(f\"El ingreso total de precios de la tienda 3 es de {suma_precios_tienda_3}.\")\n",
        "suma_precios_tienda_4 = tienda4['Precio'].sum()\n",
        "print(f\"El ingreso total de precios de la tienda 4 es de {suma_precios_tienda_4}.\")"
      ],
      "metadata": {
        "id": "KDyr8E71V3m-",
        "colab": {
          "base_uri": "https://localhost:8080/"
        },
        "outputId": "2b53fed7-4903-46e2-8c9b-b822c85e9fca"
      },
      "execution_count": 4,
      "outputs": [
        {
          "output_type": "stream",
          "name": "stdout",
          "text": [
            "El ingreso total de precios de la tienda 1 es de 1150880400.0.\n",
            "El ingreso total de precios de la tienda 2 es de 1116343500.0.\n",
            "El ingreso total de precios de la tienda 3 es de 1098019600.0.\n",
            "El ingreso total de precios de la tienda 4 es de 1038375700.0.\n"
          ]
        }
      ]
    },
    {
      "cell_type": "markdown",
      "source": [
        "*GRAFICA*"
      ],
      "metadata": {
        "id": "Y7QU4NbYqTzB"
      }
    },
    {
      "cell_type": "code",
      "source": [
        "tiendas = ['Tienda 1', 'Tienda 2', 'Tienda 3', 'Tienda 4']\n",
        "suma_precios = [suma_precios_tienda_1, suma_precios_tienda_2, suma_precios_tienda_3, suma_precios_tienda_4]\n",
        "\n",
        "\n",
        "plt.figure(figsize=(8, 6))\n",
        "plt.bar(tiendas, suma_precios, color=['blue', 'green', 'red', 'purple'])\n",
        "plt.xlabel('Tiendas')\n",
        "plt.ylabel('Suma Ingreso Total')\n",
        "plt.title('Suma Ingreso Total Por Tienda')\n",
        "\n",
        "plt.show()"
      ],
      "metadata": {
        "id": "K7O_WV_RWjYL",
        "colab": {
          "base_uri": "https://localhost:8080/",
          "height": 564
        },
        "outputId": "48f31f02-67b9-4ad3-a3fa-35fa0788c8a3"
      },
      "execution_count": 66,
      "outputs": [
        {
          "output_type": "display_data",
          "data": {
            "text/plain": [
              "<Figure size 800x600 with 1 Axes>"
            ],
            "image/png": "[encoded data removed]"
          },
          "metadata": {}
        }
      ]
    },
    {
      "cell_type": "markdown",
      "source": [
        "# 2. Ventas por categoría"
      ],
      "metadata": {
        "id": "2V_vcAPzWZmR"
      }
    },
    {
      "cell_type": "code",
      "source": [
        "categorias_tienda1 = tienda1['Categoría del Producto'].unique()\n",
        "print(\"Categorías únicas en Tienda 1:\")\n",
        "print(categorias_tienda1)"
      ],
      "metadata": {
        "id": "A34YupIuYhfF",
        "colab": {
          "base_uri": "https://localhost:8080/"
        },
        "outputId": "9ae5a98c-58ea-477f-9eec-ba9de68ea996"
      },
      "execution_count": 5,
      "outputs": [
        {
          "output_type": "stream",
          "name": "stdout",
          "text": [
            "Categorías únicas en Tienda 1:\n",
            "['Electrónicos' 'Muebles' 'Juguetes' 'Electrodomésticos'\n",
            " 'Artículos para el hogar' 'Deportes y diversión' 'Libros'\n",
            " 'Instrumentos musicales']\n"
          ]
        }
      ]
    },
    {
      "cell_type": "markdown",
      "source": [
        "# CATEGORIAS TIENDA 1"
      ],
      "metadata": {
        "id": "s2RkJzSnlcyY"
      }
    },
    {
      "cell_type": "code",
      "source": [
        "conteo_por_categoria_tienda1 = tienda1['Categoría del Producto'].value_counts()\n",
        "categoria_popular_1 =conteo_por_categoria_tienda1.idxmax()\n",
        "cantidad_popular_1 = conteo_por_categoria_tienda1[categoria_popular_1]\n",
        "print(\"\\nCantidad de productos vendidos por categoría en la Tienda 1:\")\n",
        "print(conteo_por_categoria_tienda1)\n",
        "print(f\"La categoria popular de la tienda 4 es: {categoria_popular_1} con {cantidad_popular_1} productos vendidos.\")"
      ],
      "metadata": {
        "colab": {
          "base_uri": "https://localhost:8080/"
        },
        "id": "dyJERaTEhWzr",
        "outputId": "3c9368e0-d4f7-44e3-c204-ddbf5802db2b"
      },
      "execution_count": 68,
      "outputs": [
        {
          "output_type": "stream",
          "name": "stdout",
          "text": [
            "\n",
            "Cantidad de productos vendidos por categoría en la Tienda 1:\n",
            "Categoría del Producto\n",
            "Muebles                    465\n",
            "Electrónicos               448\n",
            "Juguetes                   324\n",
            "Electrodomésticos          312\n",
            "Deportes y diversión       284\n",
            "Instrumentos musicales     182\n",
            "Libros                     173\n",
            "Artículos para el hogar    171\n",
            "Name: count, dtype: int64\n",
            "La categoria popular de la tienda 4 es: Muebles con 465 productos vendidos.\n"
          ]
        }
      ]
    },
    {
      "cell_type": "code",
      "source": [
        "categorias_tienda1 = conteo_por_categoria_tienda1.index\n",
        "ventas_tienda1 = conteo_por_categoria_tienda1.values\n",
        "\n",
        "\n",
        "plt.figure(figsize=(8, 8))\n",
        "plt.pie(ventas_tienda1, labels=categorias_tienda1, autopct='%1.1f%%', startangle=140)\n",
        "plt.title('Distribución de Ventas por Categoría - Tienda 1')\n",
        "plt.axis('equal')\n",
        "plt.show()"
      ],
      "metadata": {
        "colab": {
          "base_uri": "https://localhost:8080/",
          "height": 675
        },
        "id": "FWRiTd8vs3xv",
        "outputId": "b03c8ba7-6771-40da-8e1b-6247d145672b"
      },
      "execution_count": 102,
      "outputs": [
        {
          "output_type": "display_data",
          "data": {
            "text/plain": [
              "<Figure size 800x800 with 1 Axes>"
            ],
            "image/png": "[encoded data removed]"
          },
          "metadata": {}
        }
      ]
    },
    {
      "cell_type": "markdown",
      "source": [
        "# CATEGORIAS TIENDA 2\n"
      ],
      "metadata": {
        "id": "1kgHQqoqlkU8"
      }
    },
    {
      "cell_type": "code",
      "source": [
        "conteo_por_categoria_tienda2 = tienda2['Categoría del Producto'].value_counts()\n",
        "categoria_popular_2 =conteo_por_categoria_tienda2.idxmax()\n",
        "cantidad_popular_2 = conteo_por_categoria_tienda2[categoria_popular_2]\n",
        "print(\"\\nCantidad de productos vendidos por categoría en la tienda 2:\")\n",
        "print(conteo_por_categoria_tienda2)\n",
        "print(f\"La categoria popular de la tienda 4 es: {categoria_popular_2} con {cantidad_popular_2} productos vendidos.\")"
      ],
      "metadata": {
        "colab": {
          "base_uri": "https://localhost:8080/"
        },
        "id": "JchG2_HUhiJY",
        "outputId": "17b6eb22-b85b-4150-a042-be8fba051c91"
      },
      "execution_count": 69,
      "outputs": [
        {
          "output_type": "stream",
          "name": "stdout",
          "text": [
            "\n",
            "Cantidad de productos vendidos por categoría en la tienda 2:\n",
            "Categoría del Producto\n",
            "Muebles                    442\n",
            "Electrónicos               422\n",
            "Juguetes                   313\n",
            "Electrodomésticos          305\n",
            "Deportes y diversión       275\n",
            "Instrumentos musicales     224\n",
            "Libros                     197\n",
            "Artículos para el hogar    181\n",
            "Name: count, dtype: int64\n",
            "La categoria popular de la tienda 4 es: Muebles con 442 productos vendidos.\n"
          ]
        }
      ]
    },
    {
      "cell_type": "code",
      "source": [
        "categorias_tienda2 = conteo_por_categoria_tienda2.index\n",
        "ventas_tienda2 = conteo_por_categoria_tienda2.values\n",
        "\n",
        "\n",
        "plt.figure(figsize=(10, 6))\n",
        "plt.bar(categorias_tienda2, ventas_tienda2, color='skyblue')\n",
        "plt.xlabel('Categoría del Producto')\n",
        "plt.ylabel('Cantidad de Ventas')\n",
        "plt.title('Ventas por Categoría - Tienda 2')\n",
        "plt.xticks(rotation=45, ha='right')\n",
        "plt.tight_layout()\n",
        "plt.show()"
      ],
      "metadata": {
        "colab": {
          "base_uri": "https://localhost:8080/",
          "height": 607
        },
        "id": "GrPuwg87tHKH",
        "outputId": "d00b0f2e-51f1-40fc-b45c-acd1124af0db"
      },
      "execution_count": 101,
      "outputs": [
        {
          "output_type": "display_data",
          "data": {
            "text/plain": [
              "<Figure size 1000x600 with 1 Axes>"
            ],
            "image/png": "[encoded data removed]"
          },
          "metadata": {}
        }
      ]
    },
    {
      "cell_type": "markdown",
      "source": [
        "# CATEGORIAS TIENDA 3"
      ],
      "metadata": {
        "id": "EhwItDQqls1c"
      }
    },
    {
      "cell_type": "code",
      "source": [
        "conteo_por_categoria_tienda3 = tienda3['Categoría del Producto'].value_counts()\n",
        "categoria_popular_3 =conteo_por_categoria_tienda3.idxmax()\n",
        "cantidad_popular_3 = conteo_por_categoria_tienda3[categoria_popular_3]\n",
        "print(\"\\nCantidad de productos vendidos por categoría en la tienda 3:\")\n",
        "print(conteo_por_categoria_tienda3)\n",
        "print(f\"La categoria popular de la tienda 4 es: {categoria_popular_3} con {cantidad_popular_3} productos vendidos.\")"
      ],
      "metadata": {
        "colab": {
          "base_uri": "https://localhost:8080/"
        },
        "id": "xRWcnURUiBiA",
        "outputId": "d523139e-7579-4d04-c3f0-6b13dba2d1f0"
      },
      "execution_count": 8,
      "outputs": [
        {
          "output_type": "stream",
          "name": "stdout",
          "text": [
            "\n",
            "Cantidad de productos vendidos por categoría en la tienda 3:\n",
            "Categoría del Producto\n",
            "Muebles                    499\n",
            "Electrónicos               451\n",
            "Juguetes                   315\n",
            "Electrodomésticos          278\n",
            "Deportes y diversión       277\n",
            "Libros                     185\n",
            "Instrumentos musicales     177\n",
            "Artículos para el hogar    177\n",
            "Name: count, dtype: int64\n",
            "La categoria popular de la tienda 4 es: Muebles con 499 productos vendidos.\n"
          ]
        }
      ]
    },
    {
      "cell_type": "markdown",
      "source": [
        "# CATEGORIAS TIENDA 4"
      ],
      "metadata": {
        "id": "Y4KMP4aClusz"
      }
    },
    {
      "cell_type": "code",
      "source": [
        "conteo_por_categoria_tienda4 = tienda4['Categoría del Producto'].value_counts()\n",
        "categoria_popular_4 =conteo_por_categoria_tienda4.idxmax()\n",
        "cantidad_popular_4 = conteo_por_categoria_tienda4[categoria_popular_4]\n",
        "print(\"\\nCantidad de productos vendidos por categoría en la tienda 4:\")\n",
        "print(conteo_por_categoria_tienda4)\n",
        "print(f\"La categoria popular de la tienda 4 es: {categoria_popular_4} con {cantidad_popular_4} productos vendidos.\")"
      ],
      "metadata": {
        "colab": {
          "base_uri": "https://localhost:8080/"
        },
        "id": "QbJMzCIgiCL_",
        "outputId": "e032676e-4d37-42f7-b56b-b9527b2082e7"
      },
      "execution_count": 42,
      "outputs": [
        {
          "output_type": "stream",
          "name": "stdout",
          "text": [
            "\n",
            "Cantidad de productos vendidos por categoría en la tienda 4:\n",
            "Categoría del Producto\n",
            "Muebles                    480\n",
            "Electrónicos               451\n",
            "Juguetes                   338\n",
            "Deportes y diversión       277\n",
            "Electrodomésticos          254\n",
            "Artículos para el hogar    201\n",
            "Libros                     187\n",
            "Instrumentos musicales     170\n",
            "Name: count, dtype: int64\n",
            "La categoria popular de la tienda 4 es: Muebles con 480 productos vendidos.\n"
          ]
        }
      ]
    },
    {
      "cell_type": "markdown",
      "source": [
        "# 3. Calificación promedio de la tienda\n"
      ],
      "metadata": {
        "id": "Rq6tU_xSY3jk"
      }
    },
    {
      "cell_type": "markdown",
      "source": [
        "# PROMEDIO TIENDA 1"
      ],
      "metadata": {
        "id": "HqcbS1MvtHtz"
      }
    },
    {
      "cell_type": "code",
      "source": [
        "suma_calificacion_tienda1 = sum(tienda1['Calificación'])\n",
        "cantidad_calificaiones_tienda1 = len(tienda1['Calificación'])\n",
        "promedio_calificacion_tienda1 = suma_calificacion_tienda1 / cantidad_calificaiones_tienda1\n",
        "print(f'Con {cantidad_calificaiones_tienda1} calificaciones la tienda 1 tiene un promedio de claficación de: {promedio_calificacion_tienda1:.3f}.')"
      ],
      "metadata": {
        "colab": {
          "base_uri": "https://localhost:8080/"
        },
        "id": "Tw03ggm6tTaU",
        "outputId": "9d8ae892-ad2a-42e7-9210-3eb88df325ca"
      },
      "execution_count": 74,
      "outputs": [
        {
          "output_type": "stream",
          "name": "stdout",
          "text": [
            "Con 2359 calificaciones la tienda 1 tiene un promedio de claficación de: 3.977.\n"
          ]
        }
      ]
    },
    {
      "cell_type": "markdown",
      "source": [
        "# PROMEDIO TIENDA 2"
      ],
      "metadata": {
        "id": "jLaglw44tHeb"
      }
    },
    {
      "cell_type": "code",
      "source": [
        "suma_calificacion_tienda2 = sum(tienda2['Calificación'])\n",
        "cantidad_calificaiones_tienda2 = len(tienda2['Calificación'])\n",
        "promedio_calificacion_tienda2 = suma_calificacion_tienda2 / cantidad_calificaiones_tienda2\n",
        "print(f'Con {cantidad_calificaiones_tienda2} calificaciones la tienda 2 tiene un promedio de claficación de: {promedio_calificacion_tienda2:.3f}.')"
      ],
      "metadata": {
        "colab": {
          "base_uri": "https://localhost:8080/"
        },
        "id": "T0-JqT7CwJu6",
        "outputId": "3c3a982c-b027-4bb9-d094-ef90222a3b8f"
      },
      "execution_count": 75,
      "outputs": [
        {
          "output_type": "stream",
          "name": "stdout",
          "text": [
            "Con 2359 calificaciones la tienda 2 tiene un promedio de claficación de: 4.037.\n"
          ]
        }
      ]
    },
    {
      "cell_type": "markdown",
      "source": [
        "# PROMEDIO TIENDA 3"
      ],
      "metadata": {
        "id": "D0ox4l8itQNE"
      }
    },
    {
      "cell_type": "code",
      "source": [
        "suma_calificacion_tienda3 = sum(tienda3['Calificación'])\n",
        "cantidad_calificaiones_tienda3 = len(tienda3['Calificación'])\n",
        "promedio_calificacion_tienda3 = suma_calificacion_tienda3 / cantidad_calificaiones_tienda3\n",
        "print(f'Con {cantidad_calificaiones_tienda3} calificaciones la tienda 3 tiene un promedio de claficación de: {promedio_calificacion_tienda3:.3f}.')"
      ],
      "metadata": {
        "colab": {
          "base_uri": "https://localhost:8080/"
        },
        "id": "smkZ59FYwKUx",
        "outputId": "36c80372-58a3-4ac8-cfe6-064b0fd1282e"
      },
      "execution_count": 76,
      "outputs": [
        {
          "output_type": "stream",
          "name": "stdout",
          "text": [
            "Con 2359 calificaciones la tienda 3 tiene un promedio de claficación de: 4.048.\n"
          ]
        }
      ]
    },
    {
      "cell_type": "markdown",
      "source": [
        "# PROMEDIO TIENDA 4"
      ],
      "metadata": {
        "id": "NiXEuBu-tG8V"
      }
    },
    {
      "cell_type": "code",
      "source": [
        "suma_calificacion_tienda4 = sum(tienda4['Calificación'])\n",
        "cantidad_calificaiones_tienda4 = len(tienda4['Calificación'])\n",
        "promedio_calificacion_tienda4 = suma_calificacion_tienda4 / cantidad_calificaiones_tienda4\n",
        "print(f'Con {cantidad_calificaiones_tienda4} calificaciones la tienda 4 tiene un promedio de claficación de: {promedio_calificacion_tienda4:.3f}.')"
      ],
      "metadata": {
        "id": "bh3jjjJwY5MU",
        "colab": {
          "base_uri": "https://localhost:8080/"
        },
        "outputId": "63b1f69d-a716-40ec-f061-6d99800f7a80"
      },
      "execution_count": 77,
      "outputs": [
        {
          "output_type": "stream",
          "name": "stdout",
          "text": [
            "Con 2358 calificaciones la tienda 4 tiene un promedio de claficación de: 3.996.\n"
          ]
        }
      ]
    },
    {
      "cell_type": "code",
      "source": [
        "tiendas = ['Tienda 1', 'Tienda 2', 'Tienda 3', 'Tienda 4']\n",
        "promedios_calificacion = [\n",
        "    promedio_calificacion_tienda1,\n",
        "    promedio_calificacion_tienda2,\n",
        "    promedio_calificacion_tienda3,\n",
        "    promedio_calificacion_tienda4\n",
        "]\n",
        "\n",
        "\n",
        "plt.figure(figsize=(8, 6))\n",
        "plt.bar(tiendas, promedios_calificacion, color=['blue', 'green', 'red', 'purple'])\n",
        "plt.xlabel('Tiendas')\n",
        "plt.ylabel('Promedio de Calificación')\n",
        "plt.title('Promedio de Calificación por Tienda')\n",
        "plt.ylim(0, 5)\n",
        "for i, promedio in enumerate(promedios_calificacion):\n",
        "    plt.text(i, promedio, f'{promedio:.2f}', ha='center', va='bottom')\n",
        "\n",
        "plt.show()"
      ],
      "metadata": {
        "colab": {
          "base_uri": "https://localhost:8080/",
          "height": 565
        },
        "id": "_Dy_qSiEtnoU",
        "outputId": "78486066-c345-4bee-f5a2-7eba30890b0c"
      },
      "execution_count": 78,
      "outputs": [
        {
          "output_type": "display_data",
          "data": {
            "text/plain": [
              "<Figure size 800x600 with 1 Axes>"
            ],
            "image/png": "[encoded data removed]"
          },
          "metadata": {}
        }
      ]
    },
    {
      "cell_type": "markdown",
      "source": [
        "# 4. Productos más y menos vendidos"
      ],
      "metadata": {
        "id": "DmNp1KPBZCm-"
      }
    },
    {
      "cell_type": "markdown",
      "source": [
        "# TIENDA 1"
      ],
      "metadata": {
        "id": "K2Qcyn7ANZe8"
      }
    },
    {
      "cell_type": "code",
      "source": [
        "productos_tienda1 = tienda1['Producto'].value_counts()\n",
        "\n",
        "max_ventas = productos_tienda1.max()\n",
        "producto_mas_vendido1 = productos_tienda1[productos_tienda1 == max_ventas]\n",
        "\n",
        "min_ventas = productos_tienda1.min()\n",
        "producto_menos_vendido1 = productos_tienda1[productos_tienda1 == min_ventas]\n",
        "\n",
        "\n",
        "print(f'\\nLos productos mas vendidos en la tienda 1 (con {max_ventas} unidades) son:')\n",
        "print(producto_mas_vendido1)\n",
        "print(f'\\nLos productos menos vendidos en la tienda 1 (con {min_ventas} unidades) son:')\n",
        "print(producto_menos_vendido1)"
      ],
      "metadata": {
        "id": "qoyjqijQZHfF",
        "colab": {
          "base_uri": "https://localhost:8080/"
        },
        "outputId": "a655776e-1b02-458f-af8e-cd6a84d952bd"
      },
      "execution_count": 44,
      "outputs": [
        {
          "output_type": "stream",
          "name": "stdout",
          "text": [
            "\n",
            "Los productos mas vendidos en la tienda 1 (con 60 unidades) son:\n",
            "Producto\n",
            "Microondas       60\n",
            "TV LED UHD 4K    60\n",
            "Armario          60\n",
            "Name: count, dtype: int64\n",
            "\n",
            "Los productos menos vendidos en la tienda 1 (con 33 unidades) son:\n",
            "Producto\n",
            "Auriculares con micrófono    33\n",
            "Celular ABXY                 33\n",
            "Name: count, dtype: int64\n"
          ]
        }
      ]
    },
    {
      "cell_type": "markdown",
      "source": [
        "# TIENDA 2"
      ],
      "metadata": {
        "id": "AHZkMWTiNjRD"
      }
    },
    {
      "cell_type": "code",
      "source": [
        "productos_tienda2 = tienda2['Producto'].value_counts()\n",
        "\n",
        "max_ventas = productos_tienda2.max()\n",
        "producto_mas_vendido2 = productos_tienda2[productos_tienda2 == max_ventas]\n",
        "\n",
        "min_ventas = productos_tienda2.min()\n",
        "producto_menos_vendido2 = productos_tienda2[productos_tienda2 == min_ventas]\n",
        "\n",
        "\n",
        "print(f'\\nLos productos mas vendidos en la tienda 2 (con {max_ventas} unidades) son:')\n",
        "print(producto_mas_vendido2)\n",
        "print(f'\\nLos productos menos vendidos en la tienda 2 (con {min_ventas} unidades) son:')\n",
        "print(producto_menos_vendido2)"
      ],
      "metadata": {
        "colab": {
          "base_uri": "https://localhost:8080/"
        },
        "id": "W-QiPc-_NiEk",
        "outputId": "ca47b73c-62ef-4013-9c83-a4b9a74c089e"
      },
      "execution_count": 35,
      "outputs": [
        {
          "output_type": "stream",
          "name": "stdout",
          "text": [
            "\n",
            "Los productos mas vendidos en la tienda 2 (con 65 unidades) son:\n",
            "Producto\n",
            "Iniciando en programación    65\n",
            "Name: count, dtype: int64\n",
            "\n",
            "Los productos menos vendidos en la tienda 2 (con 32 unidades) son:\n",
            "Producto\n",
            "Juego de mesa    32\n",
            "Name: count, dtype: int64\n"
          ]
        }
      ]
    },
    {
      "cell_type": "markdown",
      "source": [
        "# TIENDA 3"
      ],
      "metadata": {
        "id": "o__kSdeyNkwT"
      }
    },
    {
      "cell_type": "code",
      "source": [
        "productos_tienda3 = tienda3['Producto'].value_counts()\n",
        "\n",
        "max_ventas = productos_tienda3.max()\n",
        "producto_mas_vendido3 = productos_tienda3[productos_tienda3 == max_ventas]\n",
        "\n",
        "min_ventas = productos_tienda3.min()\n",
        "producto_menos_vendido3 = productos_tienda3[productos_tienda3 == min_ventas]\n",
        "\n",
        "\n",
        "print(f'\\nLos productos mas vendidos en la tienda 3 (con {max_ventas} unidades) son:')\n",
        "print(producto_mas_vendido3)\n",
        "print(f'\\nLos productos menos vendidos en la tienda 3 (con {min_ventas} unidades) son:')\n",
        "print(producto_menos_vendido3)"
      ],
      "metadata": {
        "id": "0Sw3sd4IZIGW",
        "colab": {
          "base_uri": "https://localhost:8080/"
        },
        "outputId": "3ab0b1d5-7afb-4cce-a1e0-3af9d2b3aa32"
      },
      "execution_count": 36,
      "outputs": [
        {
          "output_type": "stream",
          "name": "stdout",
          "text": [
            "\n",
            "Los productos mas vendidos en la tienda 3 (con 57 unidades) son:\n",
            "Producto\n",
            "Kit de bancas    57\n",
            "Name: count, dtype: int64\n",
            "\n",
            "Los productos menos vendidos en la tienda 3 (con 35 unidades) son:\n",
            "Producto\n",
            "Bloques de construcción    35\n",
            "Name: count, dtype: int64\n"
          ]
        }
      ]
    },
    {
      "cell_type": "markdown",
      "source": [
        "# TIENDA 4"
      ],
      "metadata": {
        "id": "UZXKy-BLNov0"
      }
    },
    {
      "cell_type": "code",
      "source": [
        "productos_tienda4 = tienda4['Producto'].value_counts()\n",
        "\n",
        "max_ventas = productos_tienda4.max()\n",
        "producto_mas_vendido4 = productos_tienda4[productos_tienda4 == max_ventas]\n",
        "\n",
        "min_ventas = productos_tienda4.min()\n",
        "producto_menos_vendido4 = productos_tienda4[productos_tienda4 == min_ventas]\n",
        "\n",
        "\n",
        "print(f'\\nLos productos mas vendidos en la tienda 4 (con {max_ventas} unidades) son:')\n",
        "print(producto_mas_vendido4)\n",
        "print(f'\\nLos productos menos vendidos en la tienda 4 (con {min_ventas} unidades) son:')\n",
        "print(producto_menos_vendido4)"
      ],
      "metadata": {
        "colab": {
          "base_uri": "https://localhost:8080/"
        },
        "id": "MaUfeUGrNrPD",
        "outputId": "566d2628-adb5-477c-925d-d902879c5d85"
      },
      "execution_count": 37,
      "outputs": [
        {
          "output_type": "stream",
          "name": "stdout",
          "text": [
            "\n",
            "Los productos mas vendidos en la tienda 4 (con 62 unidades) son:\n",
            "Producto\n",
            "Cama box    62\n",
            "Name: count, dtype: int64\n",
            "\n",
            "Los productos menos vendidos en la tienda 4 (con 33 unidades) son:\n",
            "Producto\n",
            "Guitarra eléctrica    33\n",
            "Name: count, dtype: int64\n"
          ]
        }
      ]
    },
    {
      "cell_type": "markdown",
      "source": [
        "# 5. Envío promedio por tienda"
      ],
      "metadata": {
        "id": "Fl0cGi3bZKqU"
      }
    },
    {
      "cell_type": "markdown",
      "source": [
        "# TIENDA 1"
      ],
      "metadata": {
        "id": "ZbH_Kgr0b3De"
      }
    },
    {
      "cell_type": "code",
      "source": [
        "promedio_envio_tienda1 = tienda1['Costo de envío'].mean()\n",
        "print(f\"El promedio del costo de envío en la tienda 1 es: {promedio_envio_tienda1:.2f}\")"
      ],
      "metadata": {
        "id": "S2JeaCykZNy9",
        "colab": {
          "base_uri": "https://localhost:8080/"
        },
        "outputId": "4a84438c-df98-4c20-c8df-c6010c665567"
      },
      "execution_count": 92,
      "outputs": [
        {
          "output_type": "stream",
          "name": "stdout",
          "text": [
            "El promedio del costo de envío en la tienda 1 es: 26018.61\n"
          ]
        }
      ]
    },
    {
      "cell_type": "markdown",
      "source": [
        "# TIENDA 2"
      ],
      "metadata": {
        "id": "w8a0A0v3b6PV"
      }
    },
    {
      "cell_type": "code",
      "source": [
        "promedio_envio_tienda2 = tienda2['Costo de envío'].mean()\n",
        "print(f\"El promedio del costo de envío para la tienda 2 es: {promedio_envio_tienda1:.2f}\")"
      ],
      "metadata": {
        "id": "0tSdCie9ZQlt",
        "colab": {
          "base_uri": "https://localhost:8080/"
        },
        "outputId": "232ab693-acde-48cf-f909-6454c94a65b3"
      },
      "execution_count": 94,
      "outputs": [
        {
          "output_type": "stream",
          "name": "stdout",
          "text": [
            "El promedio del costo de envío para la tienda 2 es: 26018.61\n"
          ]
        }
      ]
    },
    {
      "cell_type": "markdown",
      "source": [
        "# TIENDA 3"
      ],
      "metadata": {
        "id": "bNDUuFGYb8hl"
      }
    },
    {
      "cell_type": "code",
      "source": [
        "promedio_envio_tienda3 = tienda3['Costo de envío'].mean()\n",
        "print(f\"El promedio del costo de envío para la tienda 3 es: {promedio_envio_tienda1:.2f}\")"
      ],
      "metadata": {
        "colab": {
          "base_uri": "https://localhost:8080/"
        },
        "id": "7Z8rrAbSb-kP",
        "outputId": "06c6342d-cd7f-4b93-a3a0-0f7487b17923"
      },
      "execution_count": 96,
      "outputs": [
        {
          "output_type": "stream",
          "name": "stdout",
          "text": [
            "El promedio del costo de envío para la tienda 3 es: 26018.61\n"
          ]
        }
      ]
    },
    {
      "cell_type": "markdown",
      "source": [
        "# TIENDA 4"
      ],
      "metadata": {
        "id": "cZ7b1IvVb_dl"
      }
    },
    {
      "cell_type": "code",
      "source": [
        "promedio_envio_tienda4 = tienda4['Costo de envío'].mean()\n",
        "print(f\"El promedio del costo de envío para la tienda 4 es: {promedio_envio_tienda1:.2f}\")"
      ],
      "metadata": {
        "colab": {
          "base_uri": "https://localhost:8080/"
        },
        "id": "gG9mOOcycBaB",
        "outputId": "aed545a3-57c5-4553-95b9-a9fd2964253c"
      },
      "execution_count": 98,
      "outputs": [
        {
          "output_type": "stream",
          "name": "stdout",
          "text": [
            "El promedio del costo de envío para la tienda 4 es: 26018.61\n"
          ]
        }
      ]
    },
    {
      "cell_type": "code",
      "source": [
        "tiendas = ['Tienda 1', 'Tienda 2', 'Tienda 3', 'Tienda 4']\n",
        "promedios_envio = [\n",
        "    promedio_envio_tienda1,\n",
        "    promedio_envio_tienda2,\n",
        "    promedio_envio_tienda3,\n",
        "    promedio_envio_tienda4\n",
        "]\n",
        "\n",
        "plt.figure(figsize=(8, 6))\n",
        "bars = plt.barh(tiendas, promedios_envio, color=['blue', 'green', 'red', 'purple'])\n",
        "plt.xlabel('Promedio de Costo de Envío')\n",
        "plt.ylabel('Tiendas')\n",
        "plt.title('Promedio de Costo de Envío por Tienda')\n",
        "\n",
        "for bar in bars:\n",
        "    xval = bar.get_width()\n",
        "    plt.text(xval, bar.get_y() + bar.get_height()/2, f'{xval:.2f}', va='center', ha='left')\n",
        "\n",
        "plt.show()"
      ],
      "metadata": {
        "colab": {
          "base_uri": "https://localhost:8080/",
          "height": 565
        },
        "id": "fjD4UxHUt_Is",
        "outputId": "ef2b8093-2de0-4e40-aeba-5227d8140c8b"
      },
      "execution_count": 100,
      "outputs": [
        {
          "output_type": "display_data",
          "data": {
            "text/plain": [
              "<Figure size 800x600 with 1 Axes>"
            ],
            "image/png": "[encoded data removed]"
          },
          "metadata": {}
        }
      ]
    },
    {
      "cell_type": "markdown",
      "source": [
        "## ANALISIS FINAL"
      ],
      "metadata": {
        "id": "U2_eNQdYuRQ0"
      }
    },
    {
      "cell_type": "code",
      "source": [],
      "metadata": {
        "id": "92QMZV7luWzT"
      },
      "execution_count": null,
      "outputs": []
    }
  ]
}